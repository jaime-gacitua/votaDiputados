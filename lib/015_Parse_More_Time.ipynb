{
 "cells": [
  {
   "cell_type": "markdown",
   "metadata": {},
   "source": [
    "Para descargar mas datos necesitamos Selenium, porque Beautifulsoup no va a funcionar. Motivo la busqueda por fechas en el  sitio esta basado en Javascript."
   ]
  },
  {
   "cell_type": "code",
   "execution_count": 1,
   "metadata": {
    "collapsed": false
   },
   "outputs": [],
   "source": [
    "%load_ext autoreload\n",
    "%autoreload 2"
   ]
  },
  {
   "cell_type": "code",
   "execution_count": 2,
   "metadata": {
    "collapsed": false
   },
   "outputs": [
    {
     "data": {
      "text/html": [
       "<style>.container { width:100% !important; }</style>"
      ],
      "text/plain": [
       "<IPython.core.display.HTML object>"
      ]
     },
     "metadata": {},
     "output_type": "display_data"
    }
   ],
   "source": [
    "import pandas as pd\n",
    "import html5lib\n",
    "\n",
    "import selenium\n",
    "from selenium import webdriver\n",
    "from selenium.common.exceptions import NoSuchElementException, WebDriverException\n",
    "from selenium.webdriver.common.keys import Keys\n",
    "\n",
    "from IPython.core.display import display, HTML\n",
    "display(HTML(\"<style>.container { width:100% !important; }</style>\"))\n",
    "import time\n",
    "from functions import *\n",
    "\n",
    "%matplotlib inline\n",
    "import matplotlib\n",
    "import seaborn as sns"
   ]
  },
  {
   "cell_type": "code",
   "execution_count": 3,
   "metadata": {
    "collapsed": false
   },
   "outputs": [],
   "source": [
    "page = 'https://www.camara.cl/trabajamos/sala_votaciones.aspx'\n",
    "start_date = '01/01/2016'\n",
    "end_date = '08/07/2017'\n",
    "browser = webdriver.Firefox()\n",
    "\n",
    "\n",
    "browser.get(page)\n",
    "browser.find_element_by_xpath(\"//select[@id='ctl00_mainPlaceHolder_ddlBuscarPor']/option[@value='fecha']\").click()\n",
    "time.sleep(10)\n",
    "\n",
    "inputElement = browser.find_element_by_id('ctl00_mainPlaceHolder_txtFecha1')\n",
    "inputElement.clear()\n",
    "time.sleep(1)\n",
    "inputElement.click()\n",
    "inputElement.send_keys(start_date)\n",
    "inputElement = browser.find_element_by_id('ctl00_mainPlaceHolder_txtFecha2')\n",
    "inputElement.clear()\n",
    "time.sleep(1)\n",
    "inputElement.click()\n",
    "inputElement.send_keys(end_date)\n",
    "\n",
    "inputElement = browser.find_element_by_id('ctl00_mainPlaceHolder_btnBuscar')\n",
    "inputElement.click()\n",
    "time.sleep(60)\n",
    "\n",
    "\n"
   ]
  },
  {
   "cell_type": "code",
   "execution_count": null,
   "metadata": {
    "collapsed": false,
    "scrolled": false
   },
   "outputs": [
    {
     "name": "stdout",
     "output_type": "stream",
     "text": [
      "Starting to Read Page Index 0\n"
     ]
    }
   ],
   "source": [
    "\n",
    "\n",
    "votingDataPage = []\n",
    "failedPageIndex = []\n",
    "counter = 0\n",
    "finished = False\n",
    "while not finished:\n",
    "    # Get Data of current page\n",
    "    votingDataPage, failedPageIndex, soup, failed = readPage(counter, browser, votingDataPage, failedPageIndex)\n",
    "    print('Done Parsing Page Index ', counter)\n",
    "    counter = counter + 1\n",
    "    \n",
    "    # Confirm next link and tha we are not finished\n",
    "    nextLink, finished = getNextLink(browser)\n",
    "\n",
    "    # Get next link\n",
    "    # Take care if we landed in a dummy page\n",
    "    getNextPage(browser, nextLink, 90, failed)\n",
    "    \n",
    "\n",
    "# combine data frames\n",
    "votingData = pd.concat(votingDataPage)\n"
   ]
  },
  {
   "cell_type": "code",
   "execution_count": null,
   "metadata": {
    "collapsed": false
   },
   "outputs": [],
   "source": [
    "votingData.vote.unique()"
   ]
  },
  {
   "cell_type": "code",
   "execution_count": null,
   "metadata": {
    "collapsed": false
   },
   "outputs": [],
   "source": [
    "voteValues = {'A Favor' : 1.0,\n",
    "              'En Contra' : -1.0,\n",
    "              'Abstención' : -2.0,\n",
    "              'Dispensados' : -3.0,\n",
    "              'Pareo' : -4.0}\n",
    "\n",
    "votingData['vote2'] = [voteValues[x] for x in votingData.vote]\n",
    "\n",
    "votingData.sample(5)\n"
   ]
  },
  {
   "cell_type": "code",
   "execution_count": null,
   "metadata": {
    "collapsed": false
   },
   "outputs": [],
   "source": [
    "#votingData['date1'] = votingData.date.str.replace('.', '') \n",
    "votingData['date1'] = pd.to_datetime(votingData['date'], format='%d de %b de %Y %H:%M')\n",
    "votingData['dateDoc'] = votingData['date1'].astype(str) + ' - ' + votingData['Documento']\n",
    "votingData.head()"
   ]
  },
  {
   "cell_type": "code",
   "execution_count": null,
   "metadata": {
    "collapsed": false,
    "scrolled": false
   },
   "outputs": [],
   "source": [
    "votingData = votingData.set_index(pd.DatetimeIndex(votingData['date1']))\n",
    "votingData.groupby('dateDoc')['Person'].nunique().plot(ylim=(0, 120))"
   ]
  },
  {
   "cell_type": "code",
   "execution_count": null,
   "metadata": {
    "collapsed": true
   },
   "outputs": [],
   "source": [
    "votingData.to_csv('../output/votingData_TestMoreTime-20170716.csv')"
   ]
  },
  {
   "cell_type": "code",
   "execution_count": null,
   "metadata": {
    "collapsed": true
   },
   "outputs": [],
   "source": []
  }
 ],
 "metadata": {
  "anaconda-cloud": {},
  "kernelspec": {
   "display_name": "Python [conda root]",
   "language": "python",
   "name": "conda-root-py"
  },
  "language_info": {
   "codemirror_mode": {
    "name": "ipython",
    "version": 3
   },
   "file_extension": ".py",
   "mimetype": "text/x-python",
   "name": "python",
   "nbconvert_exporter": "python",
   "pygments_lexer": "ipython3",
   "version": "3.5.2"
  }
 },
 "nbformat": 4,
 "nbformat_minor": 2
}
