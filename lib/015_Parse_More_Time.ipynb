{
 "cells": [
  {
   "cell_type": "markdown",
   "metadata": {},
   "source": [
    "Para descargar mas datos necesitamos Selenium, porque Beautifulsoup no va a funcionar. Motivo la busqueda por fechas en el  sitio esta basado en Javascript."
   ]
  },
  {
   "cell_type": "code",
   "execution_count": 3,
   "metadata": {
    "collapsed": false
   },
   "outputs": [
    {
     "data": {
      "text/html": [
       "<style>.container { width:100% !important; }</style>"
      ],
      "text/plain": [
       "<IPython.core.display.HTML object>"
      ]
     },
     "metadata": {},
     "output_type": "display_data"
    }
   ],
   "source": [
    "import pandas as pd\n",
    "import html5lib\n",
    "\n",
    "import selenium\n",
    "from selenium import webdriver\n",
    "from selenium.common.exceptions import NoSuchElementException, WebDriverException\n",
    "from selenium.webdriver.common.keys import Keys\n",
    "\n",
    "from IPython.core.display import display, HTML\n",
    "display(HTML(\"<style>.container { width:100% !important; }</style>\"))\n",
    "import time\n"
   ]
  },
  {
   "cell_type": "code",
   "execution_count": 5,
   "metadata": {
    "collapsed": false
   },
   "outputs": [],
   "source": [
    "page = 'https://www.camara.cl/trabajamos/sala_votaciones.aspx'\n",
    "start_date = '01/01/2016'\n",
    "end_date = '08/07/2017'\n",
    "browser = webdriver.Firefox()\n",
    "\n",
    "browser.get(page)\n",
    "browser.find_element_by_xpath(\"//select[@id='ctl00_mainPlaceHolder_ddlBuscarPor']/option[@value='fecha']\").click()\n",
    "time.sleep(3)\n",
    "\n",
    "inputElement = browser.find_element_by_id('ctl00_mainPlaceHolder_txtFecha1')\n",
    "inputElement.clear()\n",
    "time.sleep(1)\n",
    "inputElement.click()\n",
    "inputElement.send_keys(start_date)\n",
    "inputElement = browser.find_element_by_id('ctl00_mainPlaceHolder_txtFecha2')\n",
    "time.sleep(1)\n",
    "inputElement.click()\n",
    "inputElement.send_keys(end_date)\n",
    "\n"
   ]
  },
  {
   "cell_type": "code",
   "execution_count": 7,
   "metadata": {
    "collapsed": true
   },
   "outputs": [],
   "source": [
    "inputElement = browser.find_element_by_id('ctl00_mainPlaceHolder_btnBuscar')\n",
    "inputElement.click()"
   ]
  },
  {
   "cell_type": "code",
   "execution_count": 6,
   "metadata": {
    "collapsed": true
   },
   "outputs": [],
   "source": [
    "inputElement.send_keys(end_date)"
   ]
  },
  {
   "cell_type": "code",
   "execution_count": null,
   "metadata": {
    "collapsed": true
   },
   "outputs": [],
   "source": []
  }
 ],
 "metadata": {
  "kernelspec": {
   "display_name": "Python [conda root]",
   "language": "python",
   "name": "conda-root-py"
  },
  "language_info": {
   "codemirror_mode": {
    "name": "ipython",
    "version": 3
   },
   "file_extension": ".py",
   "mimetype": "text/x-python",
   "name": "python",
   "nbconvert_exporter": "python",
   "pygments_lexer": "ipython3",
   "version": "3.5.2"
  }
 },
 "nbformat": 4,
 "nbformat_minor": 2
}
