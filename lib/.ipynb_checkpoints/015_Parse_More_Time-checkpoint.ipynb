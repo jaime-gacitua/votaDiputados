{
 "cells": [
  {
   "cell_type": "markdown",
   "metadata": {},
   "source": [
    "Para descargar mas datos necesitamos Selenium, porque Beautifulsoup no va a funcionar. Motivo la busqueda por fechas en el  sitio esta basado en Javascript."
   ]
  },
  {
   "cell_type": "code",
   "execution_count": 17,
   "metadata": {
    "collapsed": false
   },
   "outputs": [
    {
     "name": "stdout",
     "output_type": "stream",
     "text": [
      "The autoreload extension is already loaded. To reload it, use:\n",
      "  %reload_ext autoreload\n"
     ]
    }
   ],
   "source": [
    "%load_ext autoreload\n",
    "%autoreload 2"
   ]
  },
  {
   "cell_type": "code",
   "execution_count": 30,
   "metadata": {
    "collapsed": false
   },
   "outputs": [
    {
     "data": {
      "text/html": [
       "<style>.container { width:100% !important; }</style>"
      ],
      "text/plain": [
       "<IPython.core.display.HTML object>"
      ]
     },
     "metadata": {},
     "output_type": "display_data"
    }
   ],
   "source": [
    "import pandas as pd\n",
    "import html5lib\n",
    "\n",
    "import selenium\n",
    "from selenium import webdriver\n",
    "from selenium.common.exceptions import NoSuchElementException, WebDriverException\n",
    "from selenium.webdriver.common.keys import Keys\n",
    "\n",
    "from IPython.core.display import display, HTML\n",
    "display(HTML(\"<style>.container { width:100% !important; }</style>\"))\n",
    "import time\n",
    "from functions import *\n",
    "\n",
    "%matplotlib inline\n",
    "import matplotlib\n",
    "import seaborn as sns"
   ]
  },
  {
   "cell_type": "code",
   "execution_count": 19,
   "metadata": {
    "collapsed": false
   },
   "outputs": [
    {
     "data": {
      "text/plain": [
       "['javascript:WebForm_DoPostBackWithOptions(new WebForm_PostBackOptions(\"ctl00$mainPlaceHolder$rptPagerResultados$ctl01$LinkButton3\", \"\", true, \"\", \"\", false, true))',\n",
       " 'javascript:WebForm_DoPostBackWithOptions(new WebForm_PostBackOptions(\"ctl00$mainPlaceHolder$rptPagerResultados$ctl02$LinkButton3\", \"\", true, \"\", \"\", false, true))',\n",
       " 'javascript:WebForm_DoPostBackWithOptions(new WebForm_PostBackOptions(\"ctl00$mainPlaceHolder$rptPagerResultados$ctl03$LinkButton3\", \"\", true, \"\", \"\", false, true))',\n",
       " 'javascript:WebForm_DoPostBackWithOptions(new WebForm_PostBackOptions(\"ctl00$mainPlaceHolder$rptPagerResultados$ctl04$LinkButton3\", \"\", true, \"\", \"\", false, true))',\n",
       " 'javascript:WebForm_DoPostBackWithOptions(new WebForm_PostBackOptions(\"ctl00$mainPlaceHolder$rptPagerResultados$ctl05$LinkButton3\", \"\", true, \"\", \"\", false, true))',\n",
       " 'javascript:WebForm_DoPostBackWithOptions(new WebForm_PostBackOptions(\"ctl00$mainPlaceHolder$rptPagerResultados$ctl06$LinkButton3\", \"\", true, \"\", \"\", false, true))',\n",
       " 'javascript:WebForm_DoPostBackWithOptions(new WebForm_PostBackOptions(\"ctl00$mainPlaceHolder$rptPagerResultados$ctl07$LinkButton3\", \"\", true, \"\", \"\", false, true))',\n",
       " 'javascript:WebForm_DoPostBackWithOptions(new WebForm_PostBackOptions(\"ctl00$mainPlaceHolder$rptPagerResultados$ctl08$LinkButton3\", \"\", true, \"\", \"\", false, true))',\n",
       " 'javascript:WebForm_DoPostBackWithOptions(new WebForm_PostBackOptions(\"ctl00$mainPlaceHolder$rptPagerResultados$ctl09$LinkButton3\", \"\", true, \"\", \"\", false, true))',\n",
       " 'javascript:WebForm_DoPostBackWithOptions(new WebForm_PostBackOptions(\"ctl00$mainPlaceHolder$rptPagerResultados$ctl10$LinkButton3\", \"\", true, \"\", \"\", false, true))',\n",
       " 'javascript:WebForm_DoPostBackWithOptions(new WebForm_PostBackOptions(\"ctl00$mainPlaceHolder$rptPagerResultados$ctl11$LinkButton3\", \"\", true, \"\", \"\", false, true))',\n",
       " 'javascript:WebForm_DoPostBackWithOptions(new WebForm_PostBackOptions(\"ctl00$mainPlaceHolder$rptPagerResultados$ctl12$LinkButton5\", \"\", true, \"\", \"\", false, true))',\n",
       " 'javascript:WebForm_DoPostBackWithOptions(new WebForm_PostBackOptions(\"ctl00$mainPlaceHolder$rptPagerResultados$ctl13$LinkButton4\", \"\", true, \"\", \"\", false, true))']"
      ]
     },
     "execution_count": 19,
     "metadata": {},
     "output_type": "execute_result"
    }
   ],
   "source": [
    "page = 'https://www.camara.cl/trabajamos/sala_votaciones.aspx'\n",
    "start_date = '01/01/2016'\n",
    "end_date = '08/07/2017'\n",
    "browser = webdriver.Firefox()\n",
    "\n",
    "\n",
    "browser.get(page)\n",
    "browser.find_element_by_xpath(\"//select[@id='ctl00_mainPlaceHolder_ddlBuscarPor']/option[@value='fecha']\").click()\n",
    "time.sleep(10)\n",
    "\n",
    "inputElement = browser.find_element_by_id('ctl00_mainPlaceHolder_txtFecha1')\n",
    "inputElement.clear()\n",
    "time.sleep(1)\n",
    "inputElement.click()\n",
    "inputElement.send_keys(start_date)\n",
    "inputElement = browser.find_element_by_id('ctl00_mainPlaceHolder_txtFecha2')\n",
    "inputElement.clear()\n",
    "time.sleep(1)\n",
    "inputElement.click()\n",
    "inputElement.send_keys(end_date)\n",
    "\n",
    "inputElement = browser.find_element_by_id('ctl00_mainPlaceHolder_btnBuscar')\n",
    "inputElement.click()\n",
    "\n",
    "time.sleep(60)\n",
    "\n",
    "page = browser.page_source\n",
    "soup = BeautifulSoup(page, \"html.parser\")\n",
    "pageLinks = getPageLinks(soup)\n",
    "pageLinks\n",
    "\n"
   ]
  },
  {
   "cell_type": "code",
   "execution_count": 20,
   "metadata": {
    "collapsed": false,
    "scrolled": false
   },
   "outputs": [
    {
     "name": "stdout",
     "output_type": "stream",
     "text": [
      "Starting to Read Page  1\n",
      "Done Parsing Page  1\n",
      "Getting Next Page. Wait:  90 seconds\n",
      "Starting to Read Page  2\n",
      "Done Parsing Page  2\n",
      "Getting Next Page. Wait:  90 seconds\n",
      "Starting to Read Page  3\n",
      "Done Parsing Page  3\n",
      "Extract Failed\n",
      "Getting Next Page. Wait:  90 seconds\n",
      "Starting to Read Page  4\n",
      "Done Parsing Page  4\n",
      "Getting Next Page. Wait:  90 seconds\n",
      "Starting to Read Page  5\n",
      "Done Parsing Page  5\n",
      "Getting Next Page. Wait:  90 seconds\n",
      "Starting to Read Page  6\n",
      "Done Parsing Page  6\n",
      "Getting Next Page. Wait:  90 seconds\n",
      "Starting to Read Page  7\n",
      "Done Parsing Page  7\n",
      "Getting Next Page. Wait:  90 seconds\n",
      "Starting to Read Page  8\n",
      "Done Parsing Page  8\n",
      "Getting Next Page. Wait:  90 seconds\n",
      "Starting to Read Page  9\n",
      "Done Parsing Page  9\n",
      "Getting Next Page. Wait:  90 seconds\n",
      "Starting to Read Page  10\n",
      "Done Parsing Page  10\n",
      "Getting Next Page. Wait:  90 seconds\n",
      "Starting to Read Page  11\n",
      "Done Parsing Page  11\n",
      "Getting Next Page. Wait:  90 seconds\n",
      "Starting to Read Page  12\n",
      "Done Parsing Page  12\n",
      "Getting Next Page. Wait:  90 seconds\n",
      "Starting to Read Page  13\n",
      "Done Parsing Page  13\n",
      "Extract Failed\n",
      "Getting Next Page. Wait:  90 seconds\n"
     ]
    }
   ],
   "source": [
    "\n",
    "votingDataPage = []\n",
    "failedPageIndex = []\n",
    "counter = 0\n",
    "for p in pageLinks:\n",
    "    votingDataPage, failedPageIndex, soup, failed = readPage(counter, browser, votingDataPage, failedPageIndex)\n",
    "    counter = counter + 1\n",
    "\n",
    "    print('Done Parsing Page ', counter)\n",
    "\n",
    "    getNextPage(browser, p, 90, failed)\n",
    "    \n",
    "# combine data frames\n",
    "votingData = pd.concat(votingDataPage)\n"
   ]
  },
  {
   "cell_type": "code",
   "execution_count": 21,
   "metadata": {
    "collapsed": false
   },
   "outputs": [
    {
     "data": {
      "text/plain": [
       "array(['A Favor', 'En Contra', 'Abstención', 'Pareo', 'Dispensados'], dtype=object)"
      ]
     },
     "execution_count": 21,
     "metadata": {},
     "output_type": "execute_result"
    }
   ],
   "source": [
    "votingData.vote.unique()"
   ]
  },
  {
   "cell_type": "code",
   "execution_count": 22,
   "metadata": {
    "collapsed": false
   },
   "outputs": [
    {
     "data": {
      "text/html": [
       "<div>\n",
       "<table border=\"1\" class=\"dataframe\">\n",
       "  <thead>\n",
       "    <tr style=\"text-align: right;\">\n",
       "      <th></th>\n",
       "      <th>Person</th>\n",
       "      <th>vote</th>\n",
       "      <th>date</th>\n",
       "      <th>Fecha</th>\n",
       "      <th>Documento</th>\n",
       "      <th>Materia</th>\n",
       "      <th>Artículo</th>\n",
       "      <th>Tipo</th>\n",
       "      <th>Resultado</th>\n",
       "      <th>Afir.</th>\n",
       "      <th>Neg.</th>\n",
       "      <th>Abst.</th>\n",
       "      <th>Detalle</th>\n",
       "      <th>vote2</th>\n",
       "    </tr>\n",
       "  </thead>\n",
       "  <tbody>\n",
       "    <tr>\n",
       "      <th>59</th>\n",
       "      <td>Girardi Lavín, Cristina</td>\n",
       "      <td>Pareo</td>\n",
       "      <td>11 de may de 2017 10:43</td>\n",
       "      <td>11 de may. de 2017</td>\n",
       "      <td>Otra Votación</td>\n",
       "      <td>Fusión de proyectos de ley correspondientes a ...</td>\n",
       "      <td>NaN</td>\n",
       "      <td>OTROS</td>\n",
       "      <td>APROBADO</td>\n",
       "      <td>40</td>\n",
       "      <td>9</td>\n",
       "      <td>8</td>\n",
       "      <td>Ver</td>\n",
       "      <td>-4.0</td>\n",
       "    </tr>\n",
       "    <tr>\n",
       "      <th>73</th>\n",
       "      <td>Urrutia Bonilla, Ignacio</td>\n",
       "      <td>A Favor</td>\n",
       "      <td>11 de may de 2017 12:24</td>\n",
       "      <td>11 de may. de 2017</td>\n",
       "      <td>Boletín N° 11012-13</td>\n",
       "      <td>Establece normas que incentivan mejoras de las...</td>\n",
       "      <td>NaN</td>\n",
       "      <td>GENERAL</td>\n",
       "      <td>APROBADO</td>\n",
       "      <td>81</td>\n",
       "      <td>1</td>\n",
       "      <td>0</td>\n",
       "      <td>Ver</td>\n",
       "      <td>1.0</td>\n",
       "    </tr>\n",
       "    <tr>\n",
       "      <th>31</th>\n",
       "      <td>Girardi Lavín, Cristina</td>\n",
       "      <td>A Favor</td>\n",
       "      <td>21 de jun de 2017 13:11</td>\n",
       "      <td>21 de jun. de 2017</td>\n",
       "      <td>Boletín N° 10838-06</td>\n",
       "      <td>Establece como feriado el día 10 de agosto de ...</td>\n",
       "      <td>NaN</td>\n",
       "      <td>GENERAL</td>\n",
       "      <td>APROBADO</td>\n",
       "      <td>100</td>\n",
       "      <td>0</td>\n",
       "      <td>1</td>\n",
       "      <td>Ver</td>\n",
       "      <td>1.0</td>\n",
       "    </tr>\n",
       "    <tr>\n",
       "      <th>66</th>\n",
       "      <td>Rathgeb Schifferli, Jorge</td>\n",
       "      <td>A Favor</td>\n",
       "      <td>21 de jun de 2017 13:07</td>\n",
       "      <td>21 de jun. de 2017</td>\n",
       "      <td>P. Resolución N° 887</td>\n",
       "      <td>Solicita a S.E. la Presidenta de la República ...</td>\n",
       "      <td>NaN</td>\n",
       "      <td>NaN</td>\n",
       "      <td>APROBADO</td>\n",
       "      <td>91</td>\n",
       "      <td>0</td>\n",
       "      <td>0</td>\n",
       "      <td>Ver</td>\n",
       "      <td>1.0</td>\n",
       "    </tr>\n",
       "    <tr>\n",
       "      <th>83</th>\n",
       "      <td>Urrutia Bonilla, Ignacio</td>\n",
       "      <td>A Favor</td>\n",
       "      <td>21 de jun de 2017 13:07</td>\n",
       "      <td>21 de jun. de 2017</td>\n",
       "      <td>P. Resolución N° 885</td>\n",
       "      <td>Solicita a S.E. la Presidenta de la República ...</td>\n",
       "      <td>NaN</td>\n",
       "      <td>NaN</td>\n",
       "      <td>APROBADO</td>\n",
       "      <td>91</td>\n",
       "      <td>0</td>\n",
       "      <td>0</td>\n",
       "      <td>Ver</td>\n",
       "      <td>1.0</td>\n",
       "    </tr>\n",
       "  </tbody>\n",
       "</table>\n",
       "</div>"
      ],
      "text/plain": [
       "                       Person     vote                     date  \\\n",
       "59    Girardi Lavín, Cristina    Pareo  11 de may de 2017 10:43   \n",
       "73   Urrutia Bonilla, Ignacio  A Favor  11 de may de 2017 12:24   \n",
       "31    Girardi Lavín, Cristina  A Favor  21 de jun de 2017 13:11   \n",
       "66  Rathgeb Schifferli, Jorge  A Favor  21 de jun de 2017 13:07   \n",
       "83   Urrutia Bonilla, Ignacio  A Favor  21 de jun de 2017 13:07   \n",
       "\n",
       "                 Fecha             Documento  \\\n",
       "59  11 de may. de 2017         Otra Votación   \n",
       "73  11 de may. de 2017   Boletín N° 11012-13   \n",
       "31  21 de jun. de 2017   Boletín N° 10838-06   \n",
       "66  21 de jun. de 2017  P. Resolución N° 887   \n",
       "83  21 de jun. de 2017  P. Resolución N° 885   \n",
       "\n",
       "                                              Materia Artículo     Tipo  \\\n",
       "59  Fusión de proyectos de ley correspondientes a ...      NaN    OTROS   \n",
       "73  Establece normas que incentivan mejoras de las...      NaN  GENERAL   \n",
       "31  Establece como feriado el día 10 de agosto de ...      NaN  GENERAL   \n",
       "66  Solicita a S.E. la Presidenta de la República ...      NaN      NaN   \n",
       "83  Solicita a S.E. la Presidenta de la República ...      NaN      NaN   \n",
       "\n",
       "   Resultado  Afir.  Neg.  Abst. Detalle  vote2  \n",
       "59  APROBADO     40     9      8     Ver   -4.0  \n",
       "73  APROBADO     81     1      0     Ver    1.0  \n",
       "31  APROBADO    100     0      1     Ver    1.0  \n",
       "66  APROBADO     91     0      0     Ver    1.0  \n",
       "83  APROBADO     91     0      0     Ver    1.0  "
      ]
     },
     "execution_count": 22,
     "metadata": {},
     "output_type": "execute_result"
    }
   ],
   "source": [
    "voteValues = {'A Favor' : 1.0,\n",
    "              'En Contra' : -1.0,\n",
    "              'Abstención' : -2.0,\n",
    "              'Dispensados' : -3.0,\n",
    "              'Pareo' : -4.0}\n",
    "\n",
    "votingData['vote2'] = [voteValues[x] for x in votingData.vote]\n",
    "\n",
    "votingData.sample(5)\n"
   ]
  },
  {
   "cell_type": "code",
   "execution_count": 23,
   "metadata": {
    "collapsed": false
   },
   "outputs": [
    {
     "data": {
      "text/html": [
       "<div>\n",
       "<table border=\"1\" class=\"dataframe\">\n",
       "  <thead>\n",
       "    <tr style=\"text-align: right;\">\n",
       "      <th></th>\n",
       "      <th>Person</th>\n",
       "      <th>vote</th>\n",
       "      <th>date</th>\n",
       "      <th>Fecha</th>\n",
       "      <th>Documento</th>\n",
       "      <th>Materia</th>\n",
       "      <th>Artículo</th>\n",
       "      <th>Tipo</th>\n",
       "      <th>Resultado</th>\n",
       "      <th>Afir.</th>\n",
       "      <th>Neg.</th>\n",
       "      <th>Abst.</th>\n",
       "      <th>Detalle</th>\n",
       "      <th>vote2</th>\n",
       "      <th>date1</th>\n",
       "      <th>dateDoc</th>\n",
       "    </tr>\n",
       "  </thead>\n",
       "  <tbody>\n",
       "    <tr>\n",
       "      <th>0</th>\n",
       "      <td>Alvarado Ramírez, Miguel Ángel</td>\n",
       "      <td>A Favor</td>\n",
       "      <td>06 de jul de 2017 12:21</td>\n",
       "      <td>06 de jul. de 2017</td>\n",
       "      <td>Boletín N° 10207-10</td>\n",
       "      <td>Aprueba el acuerdo entre el Gobierno de la Rep...</td>\n",
       "      <td>NaN</td>\n",
       "      <td>UNICA</td>\n",
       "      <td>APROBADO</td>\n",
       "      <td>49</td>\n",
       "      <td>18</td>\n",
       "      <td>13</td>\n",
       "      <td>Ver</td>\n",
       "      <td>1.0</td>\n",
       "      <td>2017-07-06 12:21:00</td>\n",
       "      <td>2017-07-06 12:21:00 - Boletín N° 10207-10</td>\n",
       "    </tr>\n",
       "    <tr>\n",
       "      <th>1</th>\n",
       "      <td>Arriagada Macaya, Claudio</td>\n",
       "      <td>A Favor</td>\n",
       "      <td>06 de jul de 2017 12:21</td>\n",
       "      <td>06 de jul. de 2017</td>\n",
       "      <td>Boletín N° 10207-10</td>\n",
       "      <td>Aprueba el acuerdo entre el Gobierno de la Rep...</td>\n",
       "      <td>NaN</td>\n",
       "      <td>UNICA</td>\n",
       "      <td>APROBADO</td>\n",
       "      <td>49</td>\n",
       "      <td>18</td>\n",
       "      <td>13</td>\n",
       "      <td>Ver</td>\n",
       "      <td>1.0</td>\n",
       "      <td>2017-07-06 12:21:00</td>\n",
       "      <td>2017-07-06 12:21:00 - Boletín N° 10207-10</td>\n",
       "    </tr>\n",
       "    <tr>\n",
       "      <th>2</th>\n",
       "      <td>Bellolio Avaria, Jaime</td>\n",
       "      <td>A Favor</td>\n",
       "      <td>06 de jul de 2017 12:21</td>\n",
       "      <td>06 de jul. de 2017</td>\n",
       "      <td>Boletín N° 10207-10</td>\n",
       "      <td>Aprueba el acuerdo entre el Gobierno de la Rep...</td>\n",
       "      <td>NaN</td>\n",
       "      <td>UNICA</td>\n",
       "      <td>APROBADO</td>\n",
       "      <td>49</td>\n",
       "      <td>18</td>\n",
       "      <td>13</td>\n",
       "      <td>Ver</td>\n",
       "      <td>1.0</td>\n",
       "      <td>2017-07-06 12:21:00</td>\n",
       "      <td>2017-07-06 12:21:00 - Boletín N° 10207-10</td>\n",
       "    </tr>\n",
       "    <tr>\n",
       "      <th>3</th>\n",
       "      <td>Berger Fett, Bernardo</td>\n",
       "      <td>A Favor</td>\n",
       "      <td>06 de jul de 2017 12:21</td>\n",
       "      <td>06 de jul. de 2017</td>\n",
       "      <td>Boletín N° 10207-10</td>\n",
       "      <td>Aprueba el acuerdo entre el Gobierno de la Rep...</td>\n",
       "      <td>NaN</td>\n",
       "      <td>UNICA</td>\n",
       "      <td>APROBADO</td>\n",
       "      <td>49</td>\n",
       "      <td>18</td>\n",
       "      <td>13</td>\n",
       "      <td>Ver</td>\n",
       "      <td>1.0</td>\n",
       "      <td>2017-07-06 12:21:00</td>\n",
       "      <td>2017-07-06 12:21:00 - Boletín N° 10207-10</td>\n",
       "    </tr>\n",
       "    <tr>\n",
       "      <th>4</th>\n",
       "      <td>Browne Urrejola, Pedro</td>\n",
       "      <td>A Favor</td>\n",
       "      <td>06 de jul de 2017 12:21</td>\n",
       "      <td>06 de jul. de 2017</td>\n",
       "      <td>Boletín N° 10207-10</td>\n",
       "      <td>Aprueba el acuerdo entre el Gobierno de la Rep...</td>\n",
       "      <td>NaN</td>\n",
       "      <td>UNICA</td>\n",
       "      <td>APROBADO</td>\n",
       "      <td>49</td>\n",
       "      <td>18</td>\n",
       "      <td>13</td>\n",
       "      <td>Ver</td>\n",
       "      <td>1.0</td>\n",
       "      <td>2017-07-06 12:21:00</td>\n",
       "      <td>2017-07-06 12:21:00 - Boletín N° 10207-10</td>\n",
       "    </tr>\n",
       "  </tbody>\n",
       "</table>\n",
       "</div>"
      ],
      "text/plain": [
       "                           Person     vote                     date  \\\n",
       "0  Alvarado Ramírez, Miguel Ángel  A Favor  06 de jul de 2017 12:21   \n",
       "1       Arriagada Macaya, Claudio  A Favor  06 de jul de 2017 12:21   \n",
       "2          Bellolio Avaria, Jaime  A Favor  06 de jul de 2017 12:21   \n",
       "3           Berger Fett, Bernardo  A Favor  06 de jul de 2017 12:21   \n",
       "4          Browne Urrejola, Pedro  A Favor  06 de jul de 2017 12:21   \n",
       "\n",
       "                Fecha            Documento  \\\n",
       "0  06 de jul. de 2017  Boletín N° 10207-10   \n",
       "1  06 de jul. de 2017  Boletín N° 10207-10   \n",
       "2  06 de jul. de 2017  Boletín N° 10207-10   \n",
       "3  06 de jul. de 2017  Boletín N° 10207-10   \n",
       "4  06 de jul. de 2017  Boletín N° 10207-10   \n",
       "\n",
       "                                             Materia Artículo   Tipo  \\\n",
       "0  Aprueba el acuerdo entre el Gobierno de la Rep...      NaN  UNICA   \n",
       "1  Aprueba el acuerdo entre el Gobierno de la Rep...      NaN  UNICA   \n",
       "2  Aprueba el acuerdo entre el Gobierno de la Rep...      NaN  UNICA   \n",
       "3  Aprueba el acuerdo entre el Gobierno de la Rep...      NaN  UNICA   \n",
       "4  Aprueba el acuerdo entre el Gobierno de la Rep...      NaN  UNICA   \n",
       "\n",
       "  Resultado  Afir.  Neg.  Abst. Detalle  vote2               date1  \\\n",
       "0  APROBADO     49    18     13     Ver    1.0 2017-07-06 12:21:00   \n",
       "1  APROBADO     49    18     13     Ver    1.0 2017-07-06 12:21:00   \n",
       "2  APROBADO     49    18     13     Ver    1.0 2017-07-06 12:21:00   \n",
       "3  APROBADO     49    18     13     Ver    1.0 2017-07-06 12:21:00   \n",
       "4  APROBADO     49    18     13     Ver    1.0 2017-07-06 12:21:00   \n",
       "\n",
       "                                     dateDoc  \n",
       "0  2017-07-06 12:21:00 - Boletín N° 10207-10  \n",
       "1  2017-07-06 12:21:00 - Boletín N° 10207-10  \n",
       "2  2017-07-06 12:21:00 - Boletín N° 10207-10  \n",
       "3  2017-07-06 12:21:00 - Boletín N° 10207-10  \n",
       "4  2017-07-06 12:21:00 - Boletín N° 10207-10  "
      ]
     },
     "execution_count": 23,
     "metadata": {},
     "output_type": "execute_result"
    }
   ],
   "source": [
    "#votingData['date1'] = votingData.date.str.replace('.', '') \n",
    "votingData['date1'] = pd.to_datetime(votingData['date'], format='%d de %b de %Y %H:%M')\n",
    "votingData['dateDoc'] = votingData['date1'].astype(str) + ' - ' + votingData['Documento']\n",
    "votingData.head()"
   ]
  },
  {
   "cell_type": "code",
   "execution_count": 39,
   "metadata": {
    "collapsed": false,
    "scrolled": false
   },
   "outputs": [
    {
     "data": {
      "text/plain": [
       "<matplotlib.axes._subplots.AxesSubplot at 0x24f1f93f1d0>"
      ]
     },
     "execution_count": 39,
     "metadata": {},
     "output_type": "execute_result"
    },
    {
     "data": {
      "image/png": "[encoded data removed]",
      "text/plain": [
       "<matplotlib.figure.Figure at 0x24f22b62320>"
      ]
     },
     "metadata": {},
     "output_type": "display_data"
    }
   ],
   "source": [
    "votingData = votingData.set_index(pd.DatetimeIndex(votingData['date1']))\n",
    "votingData.groupby('dateDoc')['Person'].nunique().plot(ylim=(0, 120))"
   ]
  },
  {
   "cell_type": "code",
   "execution_count": 40,
   "metadata": {
    "collapsed": true
   },
   "outputs": [],
   "source": [
    "votingData.to_csv('../output/votingData-20170715_testMoreTime.csv')"
   ]
  },
  {
   "cell_type": "code",
   "execution_count": null,
   "metadata": {
    "collapsed": true
   },
   "outputs": [],
   "source": []
  }
 ],
 "metadata": {
  "anaconda-cloud": {},
  "kernelspec": {
   "display_name": "Python [conda root]",
   "language": "python",
   "name": "conda-root-py"
  },
  "language_info": {
   "codemirror_mode": {
    "name": "ipython",
    "version": 3
   },
   "file_extension": ".py",
   "mimetype": "text/x-python",
   "name": "python",
   "nbconvert_exporter": "python",
   "pygments_lexer": "ipython3",
   "version": "3.5.2"
  }
 },
 "nbformat": 4,
 "nbformat_minor": 2
}
